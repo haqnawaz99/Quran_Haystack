{
 "cells": [
  {
   "cell_type": "code",
   "execution_count": 1,
   "metadata": {},
   "outputs": [],
   "source": [
    "import chromadb"
   ]
  },
  {
   "cell_type": "code",
   "execution_count": 2,
   "metadata": {},
   "outputs": [],
   "source": [
    "client = chromadb.PersistentClient(path=f\"./chroma.db\")"
   ]
  },
  {
   "cell_type": "code",
   "execution_count": 3,
   "metadata": {},
   "outputs": [
    {
     "data": {
      "text/plain": [
       "1704900084070207600"
      ]
     },
     "execution_count": 3,
     "metadata": {},
     "output_type": "execute_result"
    }
   ],
   "source": [
    "client.heartbeat() # returns a nanosecond heartbeat. Useful for making sure the client remains connected.\n"
   ]
  },
  {
   "cell_type": "markdown",
   "metadata": {},
   "source": [
    "client.reset() # Empties and completely resets the database. ⚠️ This is destructive and not reversible."
   ]
  },
  {
   "cell_type": "code",
   "execution_count": null,
   "metadata": {},
   "outputs": [],
   "source": [
    "# collection = client.create_collection(name=\"te_collection\")\n",
    "# collection = client.get_collection(name=\"te_collection\")"
   ]
  },
  {
   "cell_type": "code",
   "execution_count": null,
   "metadata": {},
   "outputs": [],
   "source": [
    "\n",
    "# collection.modify(name=\"new_name\") # Rename the collection"
   ]
  },
  {
   "cell_type": "code",
   "execution_count": 3,
   "metadata": {},
   "outputs": [],
   "source": [
    "collection = client.create_collection(\n",
    "    name=\"quran_english_semantic_search\",\n",
    "    metadata={\"hnsw:space\": \"cosine\"} # l2 is the default\n",
    ")"
   ]
  },
  {
   "cell_type": "code",
   "execution_count": null,
   "metadata": {},
   "outputs": [],
   "source": []
  },
  {
   "cell_type": "code",
   "execution_count": 5,
   "metadata": {},
   "outputs": [
    {
     "ename": "ValueError",
     "evalue": "Expected metadata to be a dict or None, got Author: ahmedraza, Surah: 1, Verse: 1",
     "output_type": "error",
     "traceback": [
      "\u001b[1;31m---------------------------------------------------------------------------\u001b[0m",
      "\u001b[1;31mValueError\u001b[0m                                Traceback (most recent call last)",
      "Cell \u001b[1;32mIn[5], line 31\u001b[0m\n\u001b[0;32m     29\u001b[0m input_csv \u001b[38;5;241m=\u001b[39m \u001b[38;5;124m'\u001b[39m\u001b[38;5;124mquran.csv\u001b[39m\u001b[38;5;124m'\u001b[39m\n\u001b[0;32m     30\u001b[0m output_txt \u001b[38;5;241m=\u001b[39m \u001b[38;5;124m'\u001b[39m\u001b[38;5;124mmetadata_all_authors.txt\u001b[39m\u001b[38;5;124m'\u001b[39m\n\u001b[1;32m---> 31\u001b[0m \u001b[43mprocess_csv\u001b[49m\u001b[43m(\u001b[49m\u001b[43minput_csv\u001b[49m\u001b[43m,\u001b[49m\u001b[43m \u001b[49m\u001b[43moutput_txt\u001b[49m\u001b[43m)\u001b[49m\n",
      "Cell \u001b[1;32mIn[5], line 22\u001b[0m, in \u001b[0;36mprocess_csv\u001b[1;34m(input_csv, output_txt)\u001b[0m\n\u001b[0;32m     20\u001b[0m translation \u001b[38;5;241m=\u001b[39m translations[author_index \u001b[38;5;241m-\u001b[39m \u001b[38;5;241m3\u001b[39m] \u001b[38;5;28;01mif\u001b[39;00m translations \u001b[38;5;28;01melse\u001b[39;00m \u001b[38;5;124m\"\u001b[39m\u001b[38;5;124m\"\u001b[39m\n\u001b[0;32m     21\u001b[0m output_file\u001b[38;5;241m.\u001b[39mwrite(\u001b[38;5;124mf\u001b[39m\u001b[38;5;124m\"\u001b[39m\u001b[38;5;132;01m{\u001b[39;00mmetadata\u001b[38;5;132;01m}\u001b[39;00m\u001b[38;5;130;01m\\n\u001b[39;00m\u001b[38;5;132;01m{\u001b[39;00mtranslation\u001b[38;5;132;01m}\u001b[39;00m\u001b[38;5;130;01m\\n\u001b[39;00m\u001b[38;5;130;01m\\n\u001b[39;00m\u001b[38;5;124m\"\u001b[39m)\n\u001b[1;32m---> 22\u001b[0m \u001b[43mcollection\u001b[49m\u001b[38;5;241;43m.\u001b[39;49m\u001b[43madd\u001b[49m\u001b[43m(\u001b[49m\n\u001b[0;32m     23\u001b[0m \u001b[43m    \u001b[49m\u001b[43mdocuments\u001b[49m\u001b[38;5;241;43m=\u001b[39;49m\u001b[43mtranslation\u001b[49m\u001b[43m,\u001b[49m\n\u001b[0;32m     24\u001b[0m \u001b[43m    \u001b[49m\u001b[43mmetadatas\u001b[49m\u001b[38;5;241;43m=\u001b[39;49m\u001b[43mmetadata\u001b[49m\u001b[43m,\u001b[49m\n\u001b[0;32m     25\u001b[0m \u001b[43m    \u001b[49m\u001b[43mids\u001b[49m\u001b[38;5;241;43m=\u001b[39;49m\u001b[43mdocument_id\u001b[49m\n\u001b[0;32m     26\u001b[0m \u001b[43m\u001b[49m\u001b[43m)\u001b[49m\n",
      "File \u001b[1;32mc:\\Users\\ILI\\AppData\\Local\\Programs\\Python\\Python310\\lib\\site-packages\\chromadb\\api\\models\\Collection.py:95\u001b[0m, in \u001b[0;36mCollection.add\u001b[1;34m(self, ids, embeddings, metadatas, documents)\u001b[0m\n\u001b[0;32m     69\u001b[0m \u001b[38;5;28;01mdef\u001b[39;00m \u001b[38;5;21madd\u001b[39m(\n\u001b[0;32m     70\u001b[0m     \u001b[38;5;28mself\u001b[39m,\n\u001b[0;32m     71\u001b[0m     ids: OneOrMany[ID],\n\u001b[1;32m   (...)\u001b[0m\n\u001b[0;32m     74\u001b[0m     documents: Optional[OneOrMany[Document]] \u001b[38;5;241m=\u001b[39m \u001b[38;5;28;01mNone\u001b[39;00m,\n\u001b[0;32m     75\u001b[0m ) \u001b[38;5;241m-\u001b[39m\u001b[38;5;241m>\u001b[39m \u001b[38;5;28;01mNone\u001b[39;00m:\n\u001b[0;32m     76\u001b[0m \u001b[38;5;250m    \u001b[39m\u001b[38;5;124;03m\"\"\"Add embeddings to the data store.\u001b[39;00m\n\u001b[0;32m     77\u001b[0m \u001b[38;5;124;03m    Args:\u001b[39;00m\n\u001b[0;32m     78\u001b[0m \u001b[38;5;124;03m        ids: The ids of the embeddings you wish to add\u001b[39;00m\n\u001b[1;32m   (...)\u001b[0m\n\u001b[0;32m     92\u001b[0m \n\u001b[0;32m     93\u001b[0m \u001b[38;5;124;03m    \"\"\"\u001b[39;00m\n\u001b[1;32m---> 95\u001b[0m     ids, embeddings, metadatas, documents \u001b[38;5;241m=\u001b[39m \u001b[38;5;28;43mself\u001b[39;49m\u001b[38;5;241;43m.\u001b[39;49m\u001b[43m_validate_embedding_set\u001b[49m\u001b[43m(\u001b[49m\n\u001b[0;32m     96\u001b[0m \u001b[43m        \u001b[49m\u001b[43mids\u001b[49m\u001b[43m,\u001b[49m\u001b[43m \u001b[49m\u001b[43membeddings\u001b[49m\u001b[43m,\u001b[49m\u001b[43m \u001b[49m\u001b[43mmetadatas\u001b[49m\u001b[43m,\u001b[49m\u001b[43m \u001b[49m\u001b[43mdocuments\u001b[49m\n\u001b[0;32m     97\u001b[0m \u001b[43m    \u001b[49m\u001b[43m)\u001b[49m\n\u001b[0;32m     99\u001b[0m     \u001b[38;5;28mself\u001b[39m\u001b[38;5;241m.\u001b[39m_client\u001b[38;5;241m.\u001b[39m_add(ids, \u001b[38;5;28mself\u001b[39m\u001b[38;5;241m.\u001b[39mid, embeddings, metadatas, documents)\n",
      "File \u001b[1;32mc:\\Users\\ILI\\AppData\\Local\\Programs\\Python\\Python310\\lib\\site-packages\\chromadb\\api\\models\\Collection.py:353\u001b[0m, in \u001b[0;36mCollection._validate_embedding_set\u001b[1;34m(self, ids, embeddings, metadatas, documents, require_embeddings_or_documents)\u001b[0m\n\u001b[0;32m    346\u001b[0m ids \u001b[38;5;241m=\u001b[39m validate_ids(maybe_cast_one_to_many(ids))\n\u001b[0;32m    347\u001b[0m embeddings \u001b[38;5;241m=\u001b[39m (\n\u001b[0;32m    348\u001b[0m     validate_embeddings(maybe_cast_one_to_many(embeddings))\n\u001b[0;32m    349\u001b[0m     \u001b[38;5;28;01mif\u001b[39;00m embeddings \u001b[38;5;129;01mis\u001b[39;00m \u001b[38;5;129;01mnot\u001b[39;00m \u001b[38;5;28;01mNone\u001b[39;00m\n\u001b[0;32m    350\u001b[0m     \u001b[38;5;28;01melse\u001b[39;00m \u001b[38;5;28;01mNone\u001b[39;00m\n\u001b[0;32m    351\u001b[0m )\n\u001b[0;32m    352\u001b[0m metadatas \u001b[38;5;241m=\u001b[39m (\n\u001b[1;32m--> 353\u001b[0m     \u001b[43mvalidate_metadatas\u001b[49m\u001b[43m(\u001b[49m\u001b[43mmaybe_cast_one_to_many\u001b[49m\u001b[43m(\u001b[49m\u001b[43mmetadatas\u001b[49m\u001b[43m)\u001b[49m\u001b[43m)\u001b[49m\n\u001b[0;32m    354\u001b[0m     \u001b[38;5;28;01mif\u001b[39;00m metadatas \u001b[38;5;129;01mis\u001b[39;00m \u001b[38;5;129;01mnot\u001b[39;00m \u001b[38;5;28;01mNone\u001b[39;00m\n\u001b[0;32m    355\u001b[0m     \u001b[38;5;28;01melse\u001b[39;00m \u001b[38;5;28;01mNone\u001b[39;00m\n\u001b[0;32m    356\u001b[0m )\n\u001b[0;32m    357\u001b[0m documents \u001b[38;5;241m=\u001b[39m maybe_cast_one_to_many(documents) \u001b[38;5;28;01mif\u001b[39;00m documents \u001b[38;5;129;01mis\u001b[39;00m \u001b[38;5;129;01mnot\u001b[39;00m \u001b[38;5;28;01mNone\u001b[39;00m \u001b[38;5;28;01melse\u001b[39;00m \u001b[38;5;28;01mNone\u001b[39;00m\n\u001b[0;32m    359\u001b[0m \u001b[38;5;66;03m# Check that one of embeddings or documents is provided\u001b[39;00m\n",
      "File \u001b[1;32mc:\\Users\\ILI\\AppData\\Local\\Programs\\Python\\Python310\\lib\\site-packages\\chromadb\\api\\types.py:191\u001b[0m, in \u001b[0;36mvalidate_metadatas\u001b[1;34m(metadatas)\u001b[0m\n\u001b[0;32m    189\u001b[0m     \u001b[38;5;28;01mraise\u001b[39;00m \u001b[38;5;167;01mValueError\u001b[39;00m(\u001b[38;5;124mf\u001b[39m\u001b[38;5;124m\"\u001b[39m\u001b[38;5;124mExpected metadatas to be a list, got \u001b[39m\u001b[38;5;132;01m{\u001b[39;00mmetadatas\u001b[38;5;132;01m}\u001b[39;00m\u001b[38;5;124m\"\u001b[39m)\n\u001b[0;32m    190\u001b[0m \u001b[38;5;28;01mfor\u001b[39;00m metadata \u001b[38;5;129;01min\u001b[39;00m metadatas:\n\u001b[1;32m--> 191\u001b[0m     \u001b[43mvalidate_metadata\u001b[49m\u001b[43m(\u001b[49m\u001b[43mmetadata\u001b[49m\u001b[43m)\u001b[49m\n\u001b[0;32m    192\u001b[0m \u001b[38;5;28;01mreturn\u001b[39;00m metadatas\n",
      "File \u001b[1;32mc:\\Users\\ILI\\AppData\\Local\\Programs\\Python\\Python310\\lib\\site-packages\\chromadb\\api\\types.py:147\u001b[0m, in \u001b[0;36mvalidate_metadata\u001b[1;34m(metadata)\u001b[0m\n\u001b[0;32m    145\u001b[0m \u001b[38;5;250m\u001b[39m\u001b[38;5;124;03m\"\"\"Validates metadata to ensure it is a dictionary of strings to strings, ints, floats or bools\"\"\"\u001b[39;00m\n\u001b[0;32m    146\u001b[0m \u001b[38;5;28;01mif\u001b[39;00m \u001b[38;5;129;01mnot\u001b[39;00m \u001b[38;5;28misinstance\u001b[39m(metadata, \u001b[38;5;28mdict\u001b[39m) \u001b[38;5;129;01mand\u001b[39;00m metadata \u001b[38;5;129;01mis\u001b[39;00m \u001b[38;5;129;01mnot\u001b[39;00m \u001b[38;5;28;01mNone\u001b[39;00m:\n\u001b[1;32m--> 147\u001b[0m     \u001b[38;5;28;01mraise\u001b[39;00m \u001b[38;5;167;01mValueError\u001b[39;00m(\u001b[38;5;124mf\u001b[39m\u001b[38;5;124m\"\u001b[39m\u001b[38;5;124mExpected metadata to be a dict or None, got \u001b[39m\u001b[38;5;132;01m{\u001b[39;00mmetadata\u001b[38;5;132;01m}\u001b[39;00m\u001b[38;5;124m\"\u001b[39m)\n\u001b[0;32m    148\u001b[0m \u001b[38;5;28;01mif\u001b[39;00m metadata \u001b[38;5;129;01mis\u001b[39;00m \u001b[38;5;28;01mNone\u001b[39;00m:\n\u001b[0;32m    149\u001b[0m     \u001b[38;5;28;01mreturn\u001b[39;00m metadata\n",
      "\u001b[1;31mValueError\u001b[0m: Expected metadata to be a dict or None, got Author: ahmedraza, Surah: 1, Verse: 1"
     ]
    }
   ],
   "source": [
    "import json\n",
    "\n",
    "# Open the JSON file\n",
    "with open('te-chat-demo-langchain.json', 'r') as file:\n",
    "    # Load the JSON data\n",
    "    data = json.load(file)\n",
    "\n",
    "# Fields to exclude\n",
    "fields_to_exclude = ['embeddings', 'text_chunks', 'list', 'header', 'footer', 'title', 'tables','$oid']\n",
    "\n",
    "# Maximum length for each sublist\n",
    "max_sublist_length = 512\n",
    "\n",
    "# Function to chunk the text lists\n",
    "def chunk_text_list(text_list, max_length):\n",
    "    result = []\n",
    "    current_chunk = []\n",
    "\n",
    "    for text in text_list:\n",
    "        # Check if adding the next text to the current chunk exceeds the max length\n",
    "        if len(' '.join(current_chunk + [text]).split()) <= max_length:\n",
    "            current_chunk.append(text)\n",
    "        else:\n",
    "            result.append(' '.join(current_chunk))\n",
    "            current_chunk = [text]\n",
    "\n",
    "    # Add the last chunk if it's not empty\n",
    "    if current_chunk:\n",
    "        result.append(' '.join(current_chunk))\n",
    "\n",
    "    return result\n",
    "\n",
    "# Iterate through the length of the data\n",
    "for index, entry in enumerate(data):\n",
    "    print(f\"Entry {index + 1}:\")\n",
    "\n",
    "    # Iterate over the subrecords within each entry\n",
    "    for key, value in entry.items():\n",
    "        # Check if the key is not in the fields to exclude\n",
    "        if key not in fields_to_exclude:\n",
    "            print(f\"{key}:\")\n",
    "\n",
    "            # Initialize metadata and id variables\n",
    "            metadata = {'pages': entry.get('pages')}\n",
    "            file_name = entry.get('file_name', 'N/A')\n",
    "            \n",
    "            # Check if the key is 'text' and the value is a list\n",
    "            if key == 'text' and isinstance(value, list):\n",
    "                # Chunk the 'text' list into sublists of maximum length\n",
    "                sublists = chunk_text_list(value, max_sublist_length)\n",
    "\n",
    "                # Process each sublist as a separate document\n",
    "                for i, sublist in enumerate(sublists):\n",
    "                    # Create the document ID and metadata\n",
    "                    document_id = f\"{file_name} {i + 1}\"\n",
    "                    metadata['bucket_path'] = entry.get('bucket_path')\n",
    "                    metadata['file_name'] = entry.get('file_name')\n",
    "\n",
    "                    # Print or use the document, metadata, and ID as needed\n",
    "                    print(f\"  Document ID: {document_id}\")\n",
    "                    print(f\"  Metadata: {metadata}\")\n",
    "                    print(f\"  Document Text: {sublist}\")\n",
    "                    collection.add(\n",
    "                        documents=[sublist],\n",
    "                        metadatas=[metadata],\n",
    "                        ids=[document_id]\n",
    "                    )\n",
    "                    print(\"-----\")\n",
    "            elif isinstance(value, list):\n",
    "                # If the value is a list, print it\n",
    "                print(f\"{value}\")\n",
    "            else:\n",
    "                # If the value is not an array or list, it's a single entry\n",
    "                print(f\"{value}\")\n",
    "\n",
    "    print(\"-----\")\n"
   ]
  },
  {
   "cell_type": "markdown",
   "metadata": {},
   "source": [
    "# 148 minutes to execute"
   ]
  },
  {
   "cell_type": "code",
   "execution_count": 8,
   "metadata": {},
   "outputs": [],
   "source": [
    "import csv\n",
    "\n",
    "# Function to iterate through the CSV file and write metadata and record for all authors to a single file\n",
    "def process_csv(input_csv, output_txt):\n",
    "    with open(input_csv, 'r', newline='', encoding='utf-8') as csv_file:\n",
    "        csv_reader = csv.reader(csv_file)\n",
    "        header = next(csv_reader)  # Read the header\n",
    "\n",
    "        with open(output_txt, 'w', encoding='utf-8') as output_file:\n",
    "            for author_index in range(3, len(header)):\n",
    "                author_name = header[author_index]\n",
    "\n",
    "                csv_file.seek(0)  # Reset file pointer to start\n",
    "                next(csv_reader)  # Skip header for subsequent reads\n",
    "\n",
    "                for row in csv_reader:\n",
    "                    surah_number, verse_number, *translations = row\n",
    "                    metadata = {\n",
    "                        'Author': author_name,\n",
    "                        'Surah': surah_number,\n",
    "                        'Verse': verse_number\n",
    "                    }\n",
    "                    document_id = f\"{author_name}_{surah_number}_{verse_number}\" \n",
    "                    translation = translations[author_index - 3] if translations else \"\"\n",
    "                    output_file.write(f\"{metadata}\\n{translation}\\n\\n\")\n",
    "                    # Add the document to the collection\n",
    "                    collection.add(\n",
    "                        documents=[translation],\n",
    "                        metadatas=[metadata],\n",
    "                        ids=[document_id]\n",
    "                    )\n",
    "\n",
    "\n",
    "# Example usage\n",
    "input_csv = 'quran.csv'\n",
    "output_txt = 'metadata_all_authors.txt'\n",
    "process_csv(input_csv, output_txt)\n"
   ]
  },
  {
   "cell_type": "code",
   "execution_count": 1,
   "metadata": {},
   "outputs": [],
   "source": [
    "import chromadb\n",
    "client = chromadb.PersistentClient(path=f\"./chroma.db\")\n",
    "client.heartbeat() \n",
    "collection = client.get_collection(name=\"quran_english_semantic_search\")"
   ]
  },
  {
   "cell_type": "code",
   "execution_count": null,
   "metadata": {},
   "outputs": [],
   "source": []
  },
  {
   "cell_type": "code",
   "execution_count": 2,
   "metadata": {},
   "outputs": [
    {
     "name": "stderr",
     "output_type": "stream",
     "text": [
      "c:\\Users\\ILI\\AppData\\Local\\Programs\\Python\\Python310\\lib\\site-packages\\tqdm\\auto.py:21: TqdmWarning: IProgress not found. Please update jupyter and ipywidgets. See https://ipywidgets.readthedocs.io/en/stable/user_install.html\n",
      "  from .autonotebook import tqdm as notebook_tqdm\n"
     ]
    }
   ],
   "source": [
    "from sentence_transformers import SentenceTransformer\n",
    "embedder = SentenceTransformer('sentence-transformers/all-MiniLM-L12-v2')"
   ]
  },
  {
   "cell_type": "code",
   "execution_count": 3,
   "metadata": {},
   "outputs": [
    {
     "data": {
      "text/plain": [
       "{'ids': [['yusufali_43_69',\n",
       "   'wahiduddin_23_48',\n",
       "   'yusufali_114_6',\n",
       "   'hilali_2_250',\n",
       "   'sarwar_26_206']],\n",
       " 'distances': [[0.7044472694396973,\n",
       "   0.7177495956420898,\n",
       "   0.7231388321872747,\n",
       "   0.7265528440475464,\n",
       "   0.7315015196800232]],\n",
       " 'metadatas': [[{'Author': 'yusufali', 'Surah': '43', 'Verse': '69'},\n",
       "   {'Author': 'wahiduddin', 'Surah': '23', 'Verse': '48'},\n",
       "   {'Author': 'yusufali', 'Surah': '114', 'Verse': '6'},\n",
       "   {'Author': 'hilali', 'Surah': '2', 'Verse': '250'},\n",
       "   {'Author': 'sarwar', 'Surah': '26', 'Verse': '206'}]],\n",
       " 'embeddings': None,\n",
       " 'documents': [['those who believed in Our revelations and surrendered themselves to Us.',\n",
       "   'So they rejected them and became of those who were destroyed.',\n",
       "   'from jinn and men.\"',\n",
       "   'And when they arrayed themselves against Jalut and his hosts, they said: our Lord pour forth on us patience, and set firm our feet, and make us triumph over the infidel people.',\n",
       "   'And then there came to them that which they were promised?']]}"
      ]
     },
     "execution_count": 3,
     "metadata": {},
     "output_type": "execute_result"
    }
   ],
   "source": [
    "query = \"who are the lsoers\"\n",
    "embeddings = embedder.encode(query)\n",
    "\n",
    "collection.query(\n",
    "    query_embeddings=embeddings.tolist(),\n",
    "    n_results=5\n",
    ")\n"
   ]
  },
  {
   "cell_type": "markdown",
   "metadata": {},
   "source": [
    "need to verify"
   ]
  },
  {
   "cell_type": "code",
   "execution_count": 4,
   "metadata": {},
   "outputs": [
    {
     "data": {
      "text/plain": [
       "{'ids': [['maududi_6_31',\n",
       "   'wahiduddin_11_22',\n",
       "   'daryabadi_6_140',\n",
       "   'yusufali_11_22',\n",
       "   'ahmedraza_16_109']],\n",
       " 'distances': [[0.27176374197006226,\n",
       "   0.28356873989105225,\n",
       "   0.30186188220977783,\n",
       "   0.30398643016815186,\n",
       "   0.305777907371521]],\n",
       " 'metadatas': [[{'Author': 'maududi', 'Surah': '6', 'Verse': '31'},\n",
       "   {'Author': 'wahiduddin', 'Surah': '11', 'Verse': '22'},\n",
       "   {'Author': 'daryabadi', 'Surah': '6', 'Verse': '140'},\n",
       "   {'Author': 'yusufali', 'Surah': '11', 'Verse': '22'},\n",
       "   {'Author': 'ahmedraza', 'Surah': '16', 'Verse': '109'}]],\n",
       " 'embeddings': None,\n",
       " 'documents': [['Losers are those who deny the encounter with God. Then, when the Hour comes upon them suddenly, they will say, “Alas for us, how we have neglected it.” And they will carry their burdens on their backs—evil is what they carry.',\n",
       "   'Truly in the hereafter they are the greatest losers.',\n",
       "   'Losers are they who slay their children in folly, without knowledge, and have forbidden what God has provided them, forging against God; they have gone astray, and are not right-guided.',\n",
       "   'In the Hereafter, it is they who shall be the greatest losers.',\n",
       "   'They will surely be losers in the life to come,']]}"
      ]
     },
     "execution_count": 4,
     "metadata": {},
     "output_type": "execute_result"
    }
   ],
   "source": [
    "collection.query(\n",
    "    query_texts=[\"who are the losers\"],\n",
    "    n_results=5\n",
    "\n",
    ")"
   ]
  },
  {
   "cell_type": "code",
   "execution_count": null,
   "metadata": {},
   "outputs": [],
   "source": [
    "collection.query(\n",
    "    query_texts=[\"who are losers\"],\n",
    "    n_results=5,\n",
    "    where={\"file_name\": \"889780-2-contact-systems.pdf\"},\n",
    "\n",
    ")"
   ]
  },
  {
   "cell_type": "code",
   "execution_count": 11,
   "metadata": {},
   "outputs": [],
   "source": [
    "query_results = collection.query(\n",
    "     query_texts=[\"information accuracy\"],\n",
    "     n_results=5\n",
    "     ,\n",
    " )"
   ]
  },
  {
   "cell_type": "code",
   "execution_count": 13,
   "metadata": {},
   "outputs": [
    {
     "data": {
      "text/plain": [
       "dict_keys(['ids', 'distances', 'metadatas', 'embeddings', 'documents'])"
      ]
     },
     "execution_count": 13,
     "metadata": {},
     "output_type": "execute_result"
    }
   ],
   "source": [
    "query_results.keys()"
   ]
  },
  {
   "cell_type": "code",
   "execution_count": 14,
   "metadata": {},
   "outputs": [
    {
     "data": {
      "text/plain": [
       "[['DISCLAIMER While TE Connectivity (TE) has made every reasonable effort to ensure the accuracy of the information in this white paper, TE does not guarantee that it is error-free, nor does TE make any other representation, warranty or guarantee that the information is accurate, correct, reliable or current. TE reserves the right to make any adjustments to the information contained herein at any time without notice. TE expressly disclaims all implied warranties regarding the information contained herein, including, but not limited to, any implied warranties of merchantability or fitness for a particular purpose. The dimen- sions in this white paper are for reference purposes only and are subject to change without notice. Specifications are subject to change without notice. Consult TE for the latest dimensions and design specifications.']]"
      ]
     },
     "execution_count": 14,
     "metadata": {},
     "output_type": "execute_result"
    }
   ],
   "source": [
    "query_results[\"documents\"]"
   ]
  },
  {
   "cell_type": "code",
   "execution_count": 15,
   "metadata": {},
   "outputs": [
    {
     "data": {
      "text/plain": [
       "[['160603_WhitePaper_MCON_8_06-2016_engl_CLEAR.pdf 4']]"
      ]
     },
     "execution_count": 15,
     "metadata": {},
     "output_type": "execute_result"
    }
   ],
   "source": [
    "query_results[\"ids\"]"
   ]
  },
  {
   "cell_type": "code",
   "execution_count": 16,
   "metadata": {},
   "outputs": [
    {
     "data": {
      "text/plain": [
       "[[0.7493338584899902]]"
      ]
     },
     "execution_count": 16,
     "metadata": {},
     "output_type": "execute_result"
    }
   ],
   "source": [
    "query_results[\"distances\"]"
   ]
  },
  {
   "cell_type": "code",
   "execution_count": 17,
   "metadata": {},
   "outputs": [
    {
     "data": {
      "text/plain": [
       "[[{'bucket_path': 'te-chat-demo-files/160603_WhitePaper_MCON_8_06-2016_engl_CLEAR.pdf',\n",
       "   'file_name': '160603_WhitePaper_MCON_8_06-2016_engl_CLEAR.pdf',\n",
       "   'pages': 8}]]"
      ]
     },
     "execution_count": 17,
     "metadata": {},
     "output_type": "execute_result"
    }
   ],
   "source": [
    "query_results[\"metadatas\"]"
   ]
  },
  {
   "cell_type": "code",
   "execution_count": 18,
   "metadata": {},
   "outputs": [
    {
     "data": {
      "text/plain": [
       "<chromadb.utils.embedding_functions.ONNXMiniLM_L6_V2 at 0x24e7eaa9bd0>"
      ]
     },
     "execution_count": 18,
     "metadata": {},
     "output_type": "execute_result"
    }
   ],
   "source": [
    "collection._embedding_function"
   ]
  },
  {
   "cell_type": "code",
   "execution_count": 21,
   "metadata": {},
   "outputs": [],
   "source": [
    "from sentence_transformers import SentenceTransformer\n",
    "embedder = SentenceTransformer('sentence-transformers/all-MiniLM-L12-v2')"
   ]
  },
  {
   "cell_type": "code",
   "execution_count": 25,
   "metadata": {},
   "outputs": [
    {
     "data": {
      "text/plain": [
       "{'ids': [['160603_WhitePaper_MCON_8_06-2016_engl_CLEAR.pdf 1',\n",
       "   '889780-2-contact-systems.pdf 35',\n",
       "   '160603_WhitePaper_MCON_8_06-2016_engl_CLEAR.pdf 2',\n",
       "   '889780-2-contact-systems.pdf 27',\n",
       "   '160603_WhitePaper_MCON_8_06-2016_engl_CLEAR.pdf 3',\n",
       "   '889780-2-contact-systems.pdf 36',\n",
       "   '889780-2-contact-systems.pdf 7',\n",
       "   '889780-2-contact-systems.pdf 32',\n",
       "   '889780-2-contact-systems.pdf 37',\n",
       "   '889780-2-contact-systems.pdf 55']],\n",
       " 'distances': [[0.6573805212974548,\n",
       "   0.6755064129829407,\n",
       "   0.6811323165893555,\n",
       "   0.6826337575912476,\n",
       "   0.6859297752380371,\n",
       "   0.6860485076904297,\n",
       "   0.7063804268836975,\n",
       "   0.7073202729225159,\n",
       "   0.7091423273086548,\n",
       "   0.7114173769950867]],\n",
       " 'metadatas': [[{'bucket_path': 'te-chat-demo-files/160603_WhitePaper_MCON_8_06-2016_engl_CLEAR.pdf',\n",
       "    'file_name': '160603_WhitePaper_MCON_8_06-2016_engl_CLEAR.pdf',\n",
       "    'pages': 8},\n",
       "   {'bucket_path': 'te-chat-demo-files/889780-2-contact-systems.pdf',\n",
       "    'file_name': '889780-2-contact-systems.pdf',\n",
       "    'pages': 324},\n",
       "   {'bucket_path': 'te-chat-demo-files/160603_WhitePaper_MCON_8_06-2016_engl_CLEAR.pdf',\n",
       "    'file_name': '160603_WhitePaper_MCON_8_06-2016_engl_CLEAR.pdf',\n",
       "    'pages': 8},\n",
       "   {'bucket_path': 'te-chat-demo-files/889780-2-contact-systems.pdf',\n",
       "    'file_name': '889780-2-contact-systems.pdf',\n",
       "    'pages': 324},\n",
       "   {'bucket_path': 'te-chat-demo-files/160603_WhitePaper_MCON_8_06-2016_engl_CLEAR.pdf',\n",
       "    'file_name': '160603_WhitePaper_MCON_8_06-2016_engl_CLEAR.pdf',\n",
       "    'pages': 8},\n",
       "   {'bucket_path': 'te-chat-demo-files/889780-2-contact-systems.pdf',\n",
       "    'file_name': '889780-2-contact-systems.pdf',\n",
       "    'pages': 324},\n",
       "   {'bucket_path': 'te-chat-demo-files/889780-2-contact-systems.pdf',\n",
       "    'file_name': '889780-2-contact-systems.pdf',\n",
       "    'pages': 324},\n",
       "   {'bucket_path': 'te-chat-demo-files/889780-2-contact-systems.pdf',\n",
       "    'file_name': '889780-2-contact-systems.pdf',\n",
       "    'pages': 324},\n",
       "   {'bucket_path': 'te-chat-demo-files/889780-2-contact-systems.pdf',\n",
       "    'file_name': '889780-2-contact-systems.pdf',\n",
       "    'pages': 324},\n",
       "   {'bucket_path': 'te-chat-demo-files/889780-2-contact-systems.pdf',\n",
       "    'file_name': '889780-2-contact-systems.pdf',\n",
       "    'pages': 324}]],\n",
       " 'embeddings': None,\n",
       " 'documents': [[\"Author: Waldemar Stabroth Director Technical Marketing Contact: Thorsten Eisele Product Manager EMEA Email teisele@te.com Svenja Kunz Product Manager EMEA Phone +49 (0)6251 133-3199 TE AUTOMOTIVE /// White Paper | MCON 8 ELECTRICAL ENERGY IS OF GROWING IMPORTANCE IN MOTOR VEHICLES AS THEY BECOME SMARTER, SAFER, GREENER AND MORE CONNECTED. ON TOP OF FACILITATING CONTROL FUNCTIONS, ELECTRICAL ENERGY IS EVER MORE FREQUENTLY USED AS A POWER SOURCE FOR COMPONENTS AND FUNCTIONS. Ancillary components and actuators, for instance, which may previously have been powered by hydraulics or were part of the belt drive, are now increasingly electrified. This trend of vehicle electrification is increasing the number of electrical interfaces. TE Connectivity (TE) has long been supporting this trend through innovation and collaboration as the company is one of the biggest global solution providers of intercon- nection systems for all types of motor vehicles. To supply power to the many functions often requires terminals that can carry medium currents of <80 amps. A work group of leading OEMs has therefore specified a standardized contact cavity as a uniform basis. TE has developed a compatible contact system, called MCON 8, for this cavity and its geometry. The receptacle contact was specially designed for ruggedness, temperature and vibration resistance, plus excellent electrical and mechanical integrity. This white paper introduces the structural design of the new MCON 8 terminal system and explains its benefits for vehicle use. TE AUTOMOTIVE /// White Paper | MCON 8 CONTENTS 1 | Introduction 4 The MCON series of contact systems 2 I MCON 8 - What's new? 5 - 6 Structural design 5 Material concept 6 3 I Conclusion 7 1 I INTRODUCTION The MCON contact family from TE is a vibration-proof connection system for the universal transmission of signals and power in vehicles, Fig. 1. The success of the MCON 1.2 version, for instance, is due to the long-term safety of its electrical connec- tions. In this receptacle contact, each of the four independent lamellar contact springs in the polarized contact establishes two contact points to the tab contact, so that eight electrical contact points are created in one MCON 1.2 contact. This design stabilizes the position of the tab contact against rotary movements. The lamellar contact springs inside the contact system are pro- tected against plastic deforma- tion by the closed housing. The function of the two-part contact is ensured by the use of materi- als which each interact to create optimum electrical and mechani- cal characteristics. The MCON contact family com- prises the MCON 0.5, MCON 1.2, MCON 2.8, and MCON 6.3 (Fig. 2). The number of lamellar con- tact springs is higher in the larger models, resulting in even more contact points. Fig. 1 MCON contact family Fig. 2 Two-part design of the MCON receptacle contacts 2 MCON 8 CONTACT SYSTEM The development goal of the MCON 8 contact system was to construct a particularly rugged and reliable product using the prescribed cavity, at the same time implementing innovative design features charac- teristic of an efficient TE contact system. A\",\n",
       "   'into the body is a spring, which is able to compensate the micro motions in all three space axis. Thanks to this spring, the resulting friction force depending on spring normal force and friction parameter is higher than the unmating force in axial direc- tion, SO that micro motions and fretting corrosion is hereby prevented. The two-piece contact exists of a body which is responsible for the electrical function and a steel spring. The two locking lances of the steel spring lock the contact securely in the housing, achieving high contact extraction forces. Furthermore this steel spring also serves to secure the secondary contact locking in the housing. The sensor receptacle contact is available in a tin plated and (only in the contact area) gold plated or silver plated version. It can be applied in a single wired sealed and a non-water- proof design. By altering the mold cavity the sensor receptacle contact becomes compatible to the Junior Power Timer receptacle. That means, that the sensor receptacle contact then can also be used in existing housing designs thereby stop- ping immediately appearing corrosion problems. Our customers can accom- plish this conversion of the cavity by using a mold conversion kit. Regarding a standardization of terminals with existing Junior Power Timer contacts, this possibility has to be regarded as extremely valuable. The sensor receptacle contact can be rapidly and economi- cally crimped to wire by using hand tools resp. semi-auto- matic or fully-automatic tooling. Technical Features Material: Contact: CuNiSi Tabs: CuSn4/CuFe2 Top Spring: Stainless Steel Contact Finish: tin plated, selective gold plated Wire Size Range: 0.5-1.0 mm2/1.4-2.0 mmÂ² Single Wires (FLR) Current Carrying Capacity: up to 4 Ampere (at 20 Â°C ambient temperature) Temperature Range: -40 Â°C to +130 Â°C (tin plated) -40 Â°C to +150 Â°C (gold plated) Mating Frequency: up to 10 cycles (tin plated) up to 100 cycles (gold plated) Centerline: 3.33 X 5.0 mm Contact Resistance: New State <4 ml Mating Force: Max. 10 N Unmating Force: 1.5-7 N Extraction Tool: Part No. 929136-1 Product Specification: 108-18617 Application Specification: 114-18254 Standard Receptacle Contacts *) Material and Finish: XXX-1 = selective gold plated xxx-2 = pre-tin plated xxx-3 = silver plated Technical Features Material: Contact: CuNiSi Tabs: CuSn4/CuFe2 Top Spring: Stainless Steel Contact Finish: tin plated, selective gold plated Wire Size Range: 0.35 mm2/0.5-1.0 mmÂ²/ 1.5-2.5 mmÂ² Single Wires (FLR) Current Carrying Capacity: up to 25 Ampere (at 20 Â°C ambient temperature) Temperature Range: -40 Â°C to +130 Â°C (tin plated) -40 Â°C to +150 Â°C (gold plated) Mating Frequency: up to 20 cycles (tin plated) up to 100 cycles (gold plated) Centerline: 5.0 X 5.5 mm Standard 5.0 X 5.0 mm Staggered Standard Receptacle Contacts Single Wire Sealing System *) Material and Finish: XXX-1 = pre-tin plated XXX-2 = selective gold plated XXX-3 = silver plated Tab Contacts Tabs 2.8 X 0.8 mm with Modified Steel Top Spring, Mates with 2.8 mm Sensor Receptacle Contact Extraction Tool: Part No. 968107-1 Part No. 1-1579007-6 Product Group Drawing: 1355364 Chart Drawing: 1355052 Product Specification: 108-18063 Application Specification: 114-18051',\n",
       "   \"specific requirement was for the new contact system to demonstrate a high current carrying capacity at high ambient temperatures of up to 180Â° C, very low contact resistance and at the same time high vibration resistance. This is based on the observation that an increasing packing density of electrical and electronic components, for instance in an engine compartment, coupled with diminishing distances between them, results in intensive heat sources and consequently more stringent requirements imposed on the connection technology. Fig. 3 MCON 8 receptacle contact The MCON 8 contact system was therefore developed, in terms of both its design and its materials, for electrical connections which would specifically offer long- term stability under the chal- lenging environmental conditions described. Structural design The MCON 8 contact system is an extension of the MCON fam- ily whose design strengths were selectively further developed for this type of cavity-compati- ble contact. Its 12 wave-shaped lamellar contacts are integrated in the spring, as well as the lock- ing lance to secure the primary contact for locking in the contact cavity. Because of their wave shape, these 12 lamellar contact springs create a total of 24 redundant contact points and consequently a high degree of contact security. Another striking characteristic is that the contact points of the lamellar con- tact springs are positioned on two levels. The four outer lamellar contact springs as contact points to the tab contact are located further back into the inside of the receptacle. These outer lamellar contact springs are somewhat wider and longer in dimension than the internal lamellar contact springs, SO that the same normal force is achieved despite the longer bending path at the outer lamellar contact springs. In the case of the eight inner lamellar contact springs, conversely, the level of the contact points moves out in front of the outer lamellar contact springs. This design feature offers three important benefits: 1. By separating the contact levels, there is no need for the entire insertion force to be exerted at once. Instead, the second contact level is only reached during insertion when the peak force value has already been overcome at the first level following insertion and the force drops again. 2. The two contact levels each mutually stabilize each other's position. This ensures improved protection of the tab contact against rotary movements, and effectively prevents a tilting movement over the transverse axis. 3. As each of the two contact levels has a different resonance frequency under the influence of vibration, the two contact levels impact positively on vibration resistance. This additional protection is particularly beneficial for use in vehicles. One of the most important protection functions are the protective lugs on the front. These protect against unintentional plastic deformation (or even breakage) of the lamellar contact springs as a result of incorrect insertion. The inward bent lugs located on the inside of the housing provide additional overstretching protection. These wave shaped lugs under the lamellar contact springs serve as a stop which limits the\",\n",
       "   'base metal, providing the following superior benefits over most of the competitive stamped and formed size 16 contact systems. 1. Increased terminal/beam strength. 2. Greater resistance to stress relaxation. 3. Increased current carrying ability due to lower T-Rise (20%). Technical Features 1.58 mm Pin and Socket System per MIL-C-39029 Lanceless design Dual Beam Socket Contact Wire Size Range 0.5-2.0 mmÂ² (20-14 AWG) Wire Insulation 1.7-2.7 mm Terminal Plating Gold or Nickel Current Rating up to 13 amps Vibration Performance up to 35 G\\'s Technical Features Contact Material: Copper Alloy Contact Finish: Gold or Nickel Wire Size Range: 0.5-2.0 mmÂ² (20-14 AWG) Insulation Diameter: 1.30-3.67 mm Current Carrying Capacity: 13 amps Temperature Range -40 Â°C to +120 Â°C Product Specification: 108-2184 Application Specification: 114-13065 Receptacle Contacts with Wire Insulation Support Note: All Part Numbers are RoHS and ELV compliant. Receptacle Contacts without Wire Insulation Support Note: All Part Numbers are RoHS and ELV compliant. Pin Contacts Technical Features Contact Material: Copper Alloy Contact Finish: Gold or Nickel Wire Size Range: 0.5-2.0 mmÂ² (20-14 AWG) Insulation Diameter: 1.30-3.67 mm Current Carrying Capacity: 13 amps Temperature Range -40 Â°C to +120 Â°C Product Specification: 108-2184 Application Specification: 114-13065 Pin Contacts with Wire Insulation Support Note: All Part Numbers are RoHS and ELV compliant. Pin Contacts without Wire Insulation Support Note: All Part Numbers are RoHS and ELV compliant. Cavity Plugs for Unsealed Cavity Introduction Positive Lock receptacles are specifically designed to provide ease of assembly and secure retention to mating tabs. These unique features are attainable by the reduced insertion force of the product and the locking dimple. The receptacle locks onto mating tabs containing holes and is removable only by deflecting an integrally designed depressor prior to withdrawal. The depressor can be deflected manually by thumb pressure, or automatically by a cam inside a specially designed nylon housing. If the housing is employed, removal of the terminal from the tab is performed by simply applying withdrawal force to the housing. In addition to providing a means of discon- necting the terminal, the housing performs its traditional insulating function. Aside from reduced insertion forces, Positive Lock recep- tacles give the assembler a definite mechanical \"snap\" when the terminal is correctly seated over the mating tab. This facilitates correct assem- bly in hard-to-reach areas such as under dashboards, recessed switch tabs, etc. Safety is enhanced by the locking capability of the prod- uct. Unless the depressor is deliberately deflected, either manually or by withdrawal force applied directly to the optional housing, a terminal will not easily come off of the tab. Thus, the danger from exposed live parts or disrup- tion of critical circuitry due to improperly seated or acciden- tally removed terminals is greatly reduced. Technical Features Wire Size Range: 0.5 to 1.5 mmÂ² 1.0 to 2.5 mmÂ² Current Carrying Capacity: up to 25 A Insertion Force: approx. 27 N Extraction Force, Latch Release Ineffective: approx. 7 N Material Thickness: 0.4 mm Extraction Force, Latch Release Effective: > 100 N (without vibration) Contact Material: Brass or phosphor bronze Contact Finish:',\n",
       "   \"maximum downward deformation of the relevant spring. The MCON 8 contact system is designed for two different tab contact thicknesses, 8.0/9.5mm X 0.8mm and 8.0/9.5mm X 1.2 mm in accordance with TE specification 114-94201. The MCON 8 contact system is available as an unsealed version with a cable cross-section of up to 16 mmÂ². In the sealed version with single wire seal, the MCON 8 can be used with cable cross-sections of up to 10 mmÂ². Material concept Given the high temperature resistance requirement and the need to supply medium to high current levels, for instance in the engine compartment, the contact materials and coatings used are highly significant. Optimization of the material used for the contact body concentrates rather on its electronic character- istics. The beneficial fundamental principle used throughout the MCON family of ensuring electrical and mechanical characteristics through the selective use of individually optimized materials in each case was also applied during development. A newly developed silver plating with a low contact resistance has extended the limiting temperature of the MCON 8 to as high as 180Â° C without resulting in the familiar delamination effects encountered in standard silver plating types at higher temperatures. As the MCON 8 is a product for medium to high electrical output levels, because of its high limiting tem- perature this galvanic silver plating appears to be a logical adjustment to the intended purpose of the contact system. 3 | SUMMARY The development of the MCON 8 contact system has implemented the stringent demands made on power transmission in a way that is both innovative and constructive based on detailed knowledge of contact physics. The design and material concept of the MCON 8 contact system permit the transmission of high levels of current at high temperatures with a consistently low contact resistance. The high number of contact points and division into two contact levels have made the MCON 8 extremely resistant to vibration and ensured extremely reliable behavior thanks to its electrical characteristics. The contact design prevents any tilting movement around the transverse axis of the tab contact in the receptacle. At the same time, the MCON 8 contact system is easy to operate due to equalization of the necessary insertion forces, and offers reliable protection against overstretching of the lamellar contact springs. ABOUT TE CONNECTIVITY TE Connectivity (NYSE: TEL) is a $12 billion global technology leader. Our connectivity and sensor solu- tions are essential in today's increasingly connected world. We collaborate with engineers to transform their concepts into creations - redefining what's possible using intelligent, efficient and high-performing TE products and solutions proven in harsh environments. Our 72,000 people, including over 7,000 engineers, partner with customers in close to 150 countries across a wide range of industries. We believe EVERY CONNECTION COUNTS - www.TE.com. TE Connectivity Germany GmbH AmpÃ¨restrasse 12-14 64625 Bensheim Germany www.TE.com Â© 2016 TE Connectivity. All rights reserved. MCON, TE, TE Connectivity, TE connectivity (logo) and EVERY CONNECTION COUNTS are trademarks. Other logos, product and company names mentioned herein may be trademarks of their respective owners.\",\n",
       "   'Standard Tab Contacts with Modified Spring (STC) Tab Contacts Single Wire Sealing System with Modified Spring (SWS) *) Material and Finish: 1-xxx-3 = CuSn, selective gold plated 2-xxx-1 = CuFe, pre-tin plated Additional Materials and Finishes on request. ) The pre- and suffix for the applicators depends on the applied termination equipment. Single Wire Seals and Sealing Plugs for 2.8 mm Sensor Flat Contact System Engineering Notes Introduction The AMP MCP Contact System is mainly used in the automotive industry. Each contact consists of a flat receptacle, which mates with a flat tab. Every contact has got a steel spring and a copper alloy body. The two-piece contact design means that the electrical and mechanical properties are separated. One end of the contact body is crimped to wire and the other end mates with the matching tab. The closed spring has got several functions and also different advantages for the complete contact system. Protection of the contact springs No over elongation of the contact springs possible under normal circum- stances No possibility to connect from the rear side Protection against mechanical damage Good guiding in the cavity Secondary locking possible (from 4 directions) Assembly into housing fully- automatically In addition there are usually two lances on the steel to spring. These serve to lock the contact securely in the housing. The main advantages of the body are: Several contact points Large range of wire sizes (from 0.2 mmÂ² at AMP MCP 1.5K up to 6.0 mmÂ² at AMP MCP 6.3/4.8K) Base material with very high current capability High vibrational load Tabs and receptacles can be applied in both sealed and unsealed connectors. AMP MCP contacts can be fast and economically arranged to the lead using Tyco Electronics application tooling. Technical Features Contact Material: CuNiSi Top Spring: Stainless Steel Contact Finish: Tin plated, selective silver plated, selective gold plated Wire Size Range: 0.20-0.35 mmÂ², 0.5-1.0 mmÂ², >1.0-1.5 mmÂ² (FLR Cable) Current Carrying Capacity: up to 20 Ampere (at 20 Â°C ambient temperature) Temperature Range: -40 Â°C +130 Â°C (tin plated) -40 Â°C +140 Â°C (silver plated) -40 Â°C +150 Â°C (gold plated) Modular Dimensions (Centerline): 0.2-1.5 mmÂ² SRC: - 4.0 x 4.0 mm - -4.0x3.5 mm (Staggered) 0.2-1.5 mmÂ² SWS: - 4.0 X 4.0 mm - 4.0 X 3.5 mm (Staggered) Mating Cycles: up to 10 cycles (tin plated) up to 50 cycles (silver plated) up to 100 cycles (gold plated) ) Mating Cycles are depending on various technical influences and must be clarified in each individual case. Receptacle Contacts Single Wire Sealing System (SWS) *) Material and Finish: XXX-1 = CuNiSi, pre-tin plated XXX-2 = CuNiSi, selective gold plated XXX-3 = CuNiSi, selective silver plated 1-xxx-2 = CuNiSi, min. 1.27 um selective gold plated Note: All Part Numbers are RoHS and ELV compliant. *) The pre- and suffix for the applicators depends on the applied termination equipment. Sealed Tab Contacts Tabs 1.6 X 0.6 mm with Modified Steel Top Spring, Mates with AMP MCP 1.5K Contact System Extraction Tool: Part No. 539960-1 Product Group Drawing: 1355055 Product Specification: 108-18331 Application Specification: 114-18082',\n",
       "   'while the top spring ensures that contact force is maintained under all circumstances. Reduction in contact force due to stress relaxation at elevated temperature is thus minimized. In addition there are usually two lances on the steel to spring. These serve to lock the con- tact securely into the housing. Secondary locking of the contact in the housing can be achieved by means of the steel top spring, which usually takes the form of a box. All versions of Timer contacts can be combined easily in one connector without renouncing secondary locking device. Application in connectors which contacts by means of swiveling is possible. Tabs and receptacles can be applied in both watertight and non-watertight connectors. AMP Timer connectors are available as receptacle and tab housings (free-hanging coupling in a wiring harness) or as receptacle housings and multiple tabs (group connec- tion). With the free-hanging coupling type the housings, with up to 100 contacts, are then secured by means of a separate locking device. With multiway connectors the single lever method is usually employed (sequential insertion distributed along an angled path). Using this method a single lever plug on the receptacle housing engages in one end of the multiple tab housing. The connector is then latched up to the final position. This system is relatively tolerant as regards the positioning of the contact tabs in the housing. An additional advantage is that the contact system is, to a large degree, insensitive to crooked insertion. Even when the tabs are not straight the contact geometry ensures firm contact. In order that the flat contact system can be employed at interfaces with signal currents of medium strengths as well as with load currents more than 70 A. Technical Features Contact Material: CuSn, CuFe Cantilever Spring: Stainless Steel Contact Finish: pre-tin plated, gold plated Wire Size Range: 0.2-1.5 mmÂ² FLR (thin walled wire) Contact Resistance (New State): CuSn: <5 ml CuFe: <4 ml Total Temperature max.: -40 Â°C to +120 Â°C (tin plated) -40 Â°C to +140 Â°C (gold plated) Mating Cycles: 10 (tin plated) 100 (gold plated) Insertion Force* max. 5 N (proof tab 0.8 mm thick) Extraction Force*: min. 2 N (proof tab 0.8 mm thick) Retention Force (from Housing): - without second locking device >25 N - second locking device only > 100 N depends on housing material Dimensions of Male Contacts: 1.6 mm X 0.8 mm Product Group Drawing: 1703333 *) Measured with an Steel Test Tab (see Product Spec. 108-18279). Extraction Tool: Part No. 726510-1 Part No. 5-1579007-5 Product Specification: 108-18024 Application Specification: 114-18163 Max. Current in 9 Positions Housing Standard Receptacle Contacts *) Material and Finish: XXX-1 = CuSn, pre-tin plated xxx-2 = CuSn, gold plated XXX-3 = CuFe, pre-tin plated XXX-4 = CuFe, gold plated XXX-7 = CuSn, gold plated, short-circuit execution XXX-8 = CuFe, gold plated, short-circuit execution *) The pre- and suffix for the applicators depends on the applied termination equipment. Receptacle Contacts Technical Features Contact Material: CuSn, CuFe, CuNiSi Cantilever Spring: Stainless Steel Contact Finish: pre-tin plated, gold plated Wire Size Range: 0.2-0.5 mmÂ² (FLR)',\n",
       "   'and combined instruments. Applications in the Insulation Displacement area are often very customer specific. Please contact your local sales representative to discuss your special require- ments. For decades, the automobile industry has used flexible foil circuits, among other applica- tions, for instrument clusters and driver-side airbags. In order to implement these internal and external electrical connections, Tyco Electronics has an extensive range of contact systems in its reper- toire. Further development of these systems, contacts, housings and processing machines, to meet current quality and tech- nical requirements, makes it possible to use the flexible circuits in other automobile applications as well. A clear tendency towards re- placing the conventional cable harnesses with foil circuits is recognizable among the auto- mobile manufacturers. This is driven by the ability to reduce the weight and volume of harnesses resulting in reduced fuel consumption. The flexible foil connectors cover up to now mainly the following system applications: Steering wheel clock springs Airbags Seat occupation recognition Instrument cluster Dash board Roof harness The connectors are very reliable, but not always robust enough for handling on the car assembly line in the main harness. Therefore, it became Tyco Electronics\\' assignment to develop new solutions for these applications, i.e. solutions for contacting the foil circuits with corresponding processing machines, but also solutions for completely new contact types. We differentiate fundamentally between \"indirect connection\" and \"direct connection\", independent of the foil type. With the \"indirect connection\", contacts are connected with the foil circuit. With \"direct connection\", the bare copper conductor of the foil circuit is used directly as contact. Technical Features Contact Material: CuNiSi, Cantilever Spring: Stainless Steel Contact Finish: pre-tin plated, selective gold plated on request Contact Resistance (New State): CuNiSi: <3 mO Total Temperature max.:* -40 Â°C to +120 Â°C (tin plated) Mating Cycles: 20 (tin plated) Insertion Force: max. 5 N Extraction Force: min. 1 N Retention Force (from Housing): - without second locking device > 60 N - second locking device only > 60 N depends on housing material Dimensions of Male Contacts: 0.63 X 0.63 mm Conductor Thickness: 4-200 um Extraction Tools: Part No. 1534197-1, 91200, 91093, 91092, 91047 Product Specification: 108-18030 Application Specification: 114-18287 Socket Contacts *) Depending on Foil **) Two Contact Points ) Applicators are application specific, consult Tyco Electronics for details. Technical Features Contact Material: CuNiSi, Cantilever Spring: Stainless Steel Contact Finish: pre-tin plated, selective gold plated on request Contact Resistance (New State): CuNiSi: <3 ml Total Temperature max.:* -40 Â°C to +120 Â°C (tin plated) Mating Cycles: 20 (tin plated) Insertion Force: max. 5 N Extraction Force: min. 1 N Retention Force (from Housing): - without second locking device > 60 N - second locking device only > 60 N depends on housing material Conductor Thickness: 4-200 um Extraction Tools: Part No. 1534197-1, 91200, 91093, 91092, 91047 Product Specification: 108-18030 Application Specification: 114-18287 Pin Contacts *) Depending on Foil ) Applicators are application specific, consult Tyco Electronics for details. Technical Features Contact Material: CuSn4 Contact Finish: pre-tin plated, selective gold plated on request Contact Resistance (New State): CuSn4: 3 mn',\n",
       "   'Tab Contacts Single Wire Sealing System with Modified Spring (SWS) *) Material and Finish: xxx-2 = CuFe2, pre-tin plated XXX-3 = CuSn4, gold plated XXX-5 = CuSn4, selective silver plated Note: All Part Numbers are RoHS and ELV compliant. Remark: 2) = With Spring 1 (shown in Section 3, AMP MCP Contact System, Page 4) or Spring 2 The pre- and suffix for the applicators depends on the applied termination equipment. Single Wire Seals and Sealing Plugs for AMP MCP 1.5K Contact System (Cavity Diameter 3.6 mm) Sealed Receptacle Contacts Technical Features Material: Contact: CuNiSi Tabs: CuSn4, CuFe2 Top Spring: Stainless Steel Contact Finish: Tin plated, selective silver plated, selective gold plated Wire Size Range: 0.2-0.5 mmÂ², 0.5-1.0 mmÂ², 1.0-2.5 mmÂ², 2.5-4.0 mmÂ² Single Wires (FLR) Current Carrying Capacity: up to 40 Ampere (at 20 Â°C ambient temperature) Mating Force*: Max. 6 N Unmating Force*: Max. 5 N Modular Dimensions (Centerline) 0.35-2.5 mmÂ² SRC: - 5.0 X 5.5 mm - 5.0 X 5.0 mm (Staggered) 2.5-4.0 mmÂ² SRC: - -5.5x 5.5 mm -5.0x 5.5 mm (Staggered) 2.5-4.0 mmÂ² SWS: - 7.2 X 7.2 mm - 6.0 X 7.2 mm (Staggered) *) Steel Tab, see Specifications ) Mating Cycles are depending on various technical influences and must be clarified in each individual case. Receptacle Contacts Single Wire Sealing System (SWS) * Material and Finish: 1-xxx-1 = CuNiSi, pre-tin plated 1-xxx-2 = CuNiSi, selective gold plated 1-xxx-3 = CuNiSi, selective silver plated Note: All Part Numbers are RoHS and ELV compliant. Sealed Tab Contacts Tabs 2.8 X 0.8 mm with Steel Top Spring, Mates with AMP MCP 2.8 Contact System Extraction Tool: Part No. 1-1579007-6 Product Group Drawing: 1355052 Product Specification: 108-18063 Application Specification: 114-18051 Tab Contacts with Single Wire Sealing System (SWS) *) Material and Finish: Note: All Part Numbers are RoHS and ELV compliant. *) The pre- and suffix for the applicators depends on the applied termination equipment. Single Wire Seals and Sealing Plugs for AMP MCP 2.8 Contact System (Two Cavity Diameters) *) Form and dimensions do not correspond to the view. For correct use see Application Specification 114-18148. Engineering Notes Technical Features Contact Material: CuNiSi Top Spring: Stainless Steel Contact Finish: Tin plated, selective silver plated Wire Size Range: 0.2-0.5 mmÂ², 0.5-1.0 mmÂ², > 1.0-2.5 mmÂ², >2.5-4.0 mmÂ², >4.0-6.0 mmÂ² Current Carrying Capacity: up to 40 Ampere (at 20 Â°C ambient temperature) Temperature Range: -40 Â°C +130 Â°C (tin plated) -40 Â°C +140 Â°C (silver plated) -40 Â°C +140 Â°C (tin-silver) Modular Dimensions (Centerline): 0.2-6.0 mmÂ² SRC: - 6.0 x 8.0 mm 0.2-4.0 mmÂ² SWS: - 9.0 X 9.0 mm - 8.0 X 9.0 mm (Staggered) Dimension of Male Contacts: 4.8 +0.1 X 0.8 +0.03 mm 5.8 +0.1 X 0.8 +0.03 mm 6.3 +0.1 X 0.8 +0.03 mm Contact Resistance: New State <2 mn Mating Cycles: up to 10 cycles (tin plated) up to 10 cycles (silver plated) Mating Force: max. 16 N Unmating Force: max. 11 N Extraction Tool: Part No. 1-1579007-3 Product Group Drawing: 1241438 Product Specification: 108-18718 Application Specification: 114-18388',\n",
       "   'provides 22 kN (5,000 lb) crimp force and is capable of crimping approx. 6.0 mmÂ² (10 AWG) wire size. As value oriented terminators, the AMP 3K/40 and AMP 5K/40 are designed for customers that require the increased output and quality of a semi-automatic machine at a competitive price. A wide range of optional equipment is available to meet your specific application requirements. Stripping Module The stripping module is compatible with AMP 3K/40 and 5K/40 Terminators as well as ELT. This quick and flexible working process is supported by good accessibility to module adjustment and wire positioning. The stripping module was designed to produce good quality even used in the most harsh circumstances. Following features characterize the stripping module: Pre-selection Crimp only / Strip only / Strip and Crimp Jog Mode Pneumatic removal of insulation scraps Defective Crimp Cutter (DCC) and Carrier Scrap Chopper (CSC) When the CQM detects a bad crimp, the DCC unit will cut off the defective terminal. The wire will be cut close to the terminal. All DCC units are equipped with a Carrier Scrap Chopper (CSC). The DCC and/or CSC units can be easily hinged out of the way to allow easy access to change applicators. DCC provides more consistent wire placement accuracy capability due to the use of the grip jaws, compared to hand placing the wire in a terminator. DCC provides a scrap collection bin. It works with AWG 32-12 side-feed and end-feed HDM Style Applicators. SC15 Stripper Crimper The pneumatically and electrically driven SC15 crimping machine is a particularly efficient and a operator friendly crimping machine with outstanding repetitive precision, which satisfies the highest requirements. It can be adjusted to the specific requirements of any given contact/cable connection. If you Want to strip a multicore cable with a break-out length down to only 13 mm Would like to strip single wires from 2 to 6 mm length Cover a wire size area of from 0.09 mmÂ² to 4 mmÂ² Further features are: Automatic bare wire recognition Crimp force monitoring Remote diagnoses via serial interface Terminators CRIMPMATIC 970 and 971 Both machine versions permit the cost effective manufacturing of crimp connections with a high production efficiency. The CRIMPMATIC 970 machines are cabable of processing wires of up to approx. 16 mmÂ² (AWG 5), depending on the terminal stock thickness. Further features are: Compact, space-saving design Compatible with MQC Applicators Step mode during set-up The CRIMPMATIC 971 machine is capable of processing wires of up to approx. 50 mmÂ² (AWG 0), depending on the terminal stock thickness. The machines can be equipped with a quick change device for power crimp tools. MQC Applicators with a lower dead center of 135.78 mm can be mounted by means of an adapter plate. These machines can be utilized as manual work stations or can be integrated into fully-automatic processing lines. The terminator as shown is a manual work station CRIMPMATIC 971. The unit can be supplied with or without crimp process monitor- ing, or it maybe retrofitted later. Options are available upon request Crimp force monitoring Paper spooler']]}"
      ]
     },
     "execution_count": 25,
     "metadata": {},
     "output_type": "execute_result"
    }
   ],
   "source": [
    "\n",
    "from sentence_transformers import SentenceTransformer\n",
    "\n",
    "query = \"electrical and mechanical\"\n",
    "embedder = SentenceTransformer('sentence-transformers/all-MiniLM-L6-v2')\n",
    "embeddings = embedder.encode(query)\n",
    "\n",
    "collection.query(\n",
    "    query_embeddings=embeddings.tolist(),\n",
    "    n_results=10\n",
    ")\n"
   ]
  },
  {
   "cell_type": "code",
   "execution_count": 5,
   "metadata": {},
   "outputs": [
    {
     "data": {
      "text/plain": [
       "{'ids': [['shakir_51_58',\n",
       "   'shakir_53_48',\n",
       "   'yusufali_51_58',\n",
       "   'hilali_2_245',\n",
       "   'qarai_2_245',\n",
       "   'qarai_57_11',\n",
       "   'daryabadi_2_245',\n",
       "   'maududi_51_58',\n",
       "   'ahmedraza_19_81',\n",
       "   'yusufali_19_81']],\n",
       " 'distances': [[0.6311873197555542,\n",
       "   0.6616016030311584,\n",
       "   0.6651338338851929,\n",
       "   0.6800140142440796,\n",
       "   0.6820188164710999,\n",
       "   0.6880834698677063,\n",
       "   0.6885476112365723,\n",
       "   0.7002965807914734,\n",
       "   0.701044499874115,\n",
       "   0.702289879322052]],\n",
       " 'metadatas': [[{'Author': 'shakir', 'Surah': '51', 'Verse': '58'},\n",
       "   {'Author': 'shakir', 'Surah': '53', 'Verse': '48'},\n",
       "   {'Author': 'yusufali', 'Surah': '51', 'Verse': '58'},\n",
       "   {'Author': 'hilali', 'Surah': '2', 'Verse': '245'},\n",
       "   {'Author': 'qarai', 'Surah': '2', 'Verse': '245'},\n",
       "   {'Author': 'qarai', 'Surah': '57', 'Verse': '11'},\n",
       "   {'Author': 'daryabadi', 'Surah': '2', 'Verse': '245'},\n",
       "   {'Author': 'maududi', 'Surah': '51', 'Verse': '58'},\n",
       "   {'Author': 'ahmedraza', 'Surah': '19', 'Verse': '81'},\n",
       "   {'Author': 'yusufali', 'Surah': '19', 'Verse': '81'}]],\n",
       " 'embeddings': None,\n",
       " 'documents': [['It is God Who is the Sustainer and the Lord of invincible strength.',\n",
       "   'It is He who grants people temporary and durable wealth.',\n",
       "   'it is God who is the great Sustainer, the Mighty One, the Invincible.',\n",
       "   'Who is he that will lend unto Allah a goodly loan, so that he will multiply it unto him manifold And Allah scanteth and amplifieth, and unto Him ye shall be returned.',\n",
       "   'Who is it that will lend unto Allah a goodly loan, so that He may give it increase manifold? Allah straiteneth and enlargeth. Unto Him ye will return.',\n",
       "   'Who is he that will lend unto Allah a goodly loan, that He may double it for him and his may be a rich reward?',\n",
       "   'Who is he that will lend God a good loan, and He will multiply it for him manifold? God grasps, and outspreads; and unto Him you shall be returned.',\n",
       "   'God is the Provider, the One with Power, the Strong.',\n",
       "   'They have taken other gods apart from God that they might be a strength to them.',\n",
       "   'They have taken other deities besides God, so that they may be a source of strength for them.']]}"
      ]
     },
     "execution_count": 5,
     "metadata": {},
     "output_type": "execute_result"
    }
   ],
   "source": [
    "from sentence_transformers import SentenceTransformer\n",
    "# \"electrical and mechanical\"\n",
    "query = \"who is financly strong\"\n",
    "embedder = SentenceTransformer('sentence-transformers/all-MiniLM-L6-v2')\n",
    "embeddings = embedder.encode(query)\n",
    "\n",
    "collection.query(\n",
    "    query_embeddings=embeddings.tolist(),\n",
    "    n_results=10\n",
    ")"
   ]
  },
  {
   "cell_type": "code",
   "execution_count": null,
   "metadata": {},
   "outputs": [],
   "source": []
  }
 ],
 "metadata": {
  "kernelspec": {
   "display_name": "Python 3",
   "language": "python",
   "name": "python3"
  },
  "language_info": {
   "codemirror_mode": {
    "name": "ipython",
    "version": 3
   },
   "file_extension": ".py",
   "mimetype": "text/x-python",
   "name": "python",
   "nbconvert_exporter": "python",
   "pygments_lexer": "ipython3",
   "version": "3.10.0rc2"
  }
 },
 "nbformat": 4,
 "nbformat_minor": 2
}
