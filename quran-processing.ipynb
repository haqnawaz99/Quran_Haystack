{
 "cells": [
  {
   "cell_type": "markdown",
   "metadata": {},
   "source": [
    "### 20240123"
   ]
  },
  {
   "cell_type": "code",
   "execution_count": 5,
   "metadata": {},
   "outputs": [],
   "source": [
    "import os\n",
    "import csv\n",
    "\n",
    "# Function to extract data from a file and return it as a list of lines\n",
    "def read_quran_file(file_path):\n",
    "    with open(file_path, 'r', encoding='utf-8') as file:\n",
    "        return file.readlines()\n",
    "\n",
    "# Function to create a CSV file from Quran data\n",
    "def create_quran_csv(input_folder, output_csv):\n",
    "    # Get a list of all files in the input folder\n",
    "    all_files = [f for f in os.listdir(input_folder) if os.path.isfile(os.path.join(input_folder, f))]\n",
    "\n",
    "    # Filter out only the text files\n",
    "    text_files = [f for f in all_files if f.endswith('.txt')]\n",
    "\n",
    "    # Create a dictionary to store the data for each file\n",
    "    quran_data = {}\n",
    "\n",
    "    # Iterate through each text file\n",
    "    for file_name in text_files:\n",
    "        file_path = os.path.join(input_folder, file_name)\n",
    "\n",
    "        # Extract data from the file\n",
    "        file_lines = read_quran_file(file_path)\n",
    "\n",
    "        # Iterate through each line in the file\n",
    "        for line in file_lines:\n",
    "            if '|' in line:\n",
    "                # Split the line into surah number, verse number, and translation\n",
    "                surah_number, verse_number, translation = line.strip().split('|', 2)\n",
    "\n",
    "                # Create a tuple key for the dictionary\n",
    "                key = (surah_number, verse_number)\n",
    "\n",
    "                # Create an inner dictionary for each key\n",
    "                quran_data.setdefault(key, {})[file_name] = translation\n",
    "\n",
    "    # Create a CSV file and write the data\n",
    "    with open(output_csv, 'w', newline='', encoding='utf-8') as csv_file:\n",
    "        csv_writer = csv.writer(csv_file)\n",
    "\n",
    "        # Write header (column names)\n",
    "        header = ['Surah', 'Verse'] + [file_name[:-4] for file_name in text_files]\n",
    "        csv_writer.writerow(header)\n",
    "\n",
    "        # Write data\n",
    "        for key, value in quran_data.items():\n",
    "            surah, verse = map(int, key)\n",
    "            row = [surah, verse] + [value.get(file_name, '') for file_name in text_files]\n",
    "            csv_writer.writerow(row)\n",
    "\n",
    "# Example usage\n",
    "# Set the input_folder to the path where your text files are located\n",
    "input_folder = 'quran_text_files'\n",
    "output_csv = 'quran.csv'\n",
    "create_quran_csv(input_folder, output_csv)"
   ]
  },
  {
   "cell_type": "markdown",
   "metadata": {},
   "source": []
  }
 ],
 "metadata": {
  "kernelspec": {
   "display_name": "Python 3",
   "language": "python",
   "name": "python3"
  },
  "language_info": {
   "codemirror_mode": {
    "name": "ipython",
    "version": 3
   },
   "file_extension": ".py",
   "mimetype": "text/x-python",
   "name": "python",
   "nbconvert_exporter": "python",
   "pygments_lexer": "ipython3",
   "version": "3.10.0"
  }
 },
 "nbformat": 4,
 "nbformat_minor": 2
}
