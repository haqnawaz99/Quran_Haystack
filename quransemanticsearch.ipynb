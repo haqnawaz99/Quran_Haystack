{
 "cells": [
  {
   "cell_type": "code",
   "execution_count": 9,
   "metadata": {},
   "outputs": [],
   "source": [
    "import chromadb\n",
    "client = chromadb.PersistentClient(path=f\"./chroma.db\")"
   ]
  },
  {
   "cell_type": "code",
   "execution_count": 10,
   "metadata": {},
   "outputs": [
    {
     "data": {
      "text/plain": [
       "1706012535360387000"
      ]
     },
     "execution_count": 10,
     "metadata": {},
     "output_type": "execute_result"
    }
   ],
   "source": [
    "client.heartbeat() # returns a nanosecond heartbeat. Useful for making sure the client remains connected."
   ]
  },
  {
   "cell_type": "code",
   "execution_count": 11,
   "metadata": {},
   "outputs": [],
   "source": [
    "collection = client.create_collection(name=\"quran_english_semantic_search\")"
   ]
  },
  {
   "cell_type": "markdown",
   "metadata": {},
   "source": [
    "# Quran meta data preparation"
   ]
  },
  {
   "cell_type": "code",
   "execution_count": 8,
   "metadata": {},
   "outputs": [
    {
     "ename": "NameError",
     "evalue": "name 'collection' is not defined",
     "output_type": "error",
     "traceback": [
      "\u001b[1;31m---------------------------------------------------------------------------\u001b[0m",
      "\u001b[1;31mNameError\u001b[0m                                 Traceback (most recent call last)",
      "Cell \u001b[1;32mIn[8], line 32\u001b[0m\n\u001b[0;32m     30\u001b[0m input_csv \u001b[38;5;241m=\u001b[39m \u001b[38;5;124m'\u001b[39m\u001b[38;5;124mquran.csv\u001b[39m\u001b[38;5;124m'\u001b[39m\n\u001b[0;32m     31\u001b[0m output_txt \u001b[38;5;241m=\u001b[39m \u001b[38;5;124m'\u001b[39m\u001b[38;5;124mmetadata_all_authors.txt\u001b[39m\u001b[38;5;124m'\u001b[39m\n\u001b[1;32m---> 32\u001b[0m \u001b[43mprocess_csv\u001b[49m\u001b[43m(\u001b[49m\u001b[43minput_csv\u001b[49m\u001b[43m,\u001b[49m\u001b[43m \u001b[49m\u001b[43moutput_txt\u001b[49m\u001b[43m)\u001b[49m\n",
      "Cell \u001b[1;32mIn[8], line 23\u001b[0m, in \u001b[0;36mprocess_csv\u001b[1;34m(input_csv, output_txt)\u001b[0m\n\u001b[0;32m     21\u001b[0m output_file\u001b[38;5;241m.\u001b[39mwrite(\u001b[38;5;124mf\u001b[39m\u001b[38;5;124m\"\u001b[39m\u001b[38;5;132;01m{\u001b[39;00mmetadata\u001b[38;5;132;01m}\u001b[39;00m\u001b[38;5;130;01m\\n\u001b[39;00m\u001b[38;5;132;01m{\u001b[39;00mtranslation\u001b[38;5;132;01m}\u001b[39;00m\u001b[38;5;130;01m\\n\u001b[39;00m\u001b[38;5;130;01m\\n\u001b[39;00m\u001b[38;5;124m\"\u001b[39m)\n\u001b[0;32m     22\u001b[0m \u001b[38;5;66;03m# Add the document to the collection\u001b[39;00m\n\u001b[1;32m---> 23\u001b[0m \u001b[43mcollection\u001b[49m\u001b[38;5;241m.\u001b[39madd(\n\u001b[0;32m     24\u001b[0m     documents\u001b[38;5;241m=\u001b[39m[translation],\n\u001b[0;32m     25\u001b[0m     metadatas\u001b[38;5;241m=\u001b[39m[metadata],\n\u001b[0;32m     26\u001b[0m     ids\u001b[38;5;241m=\u001b[39m[document_id]\n\u001b[0;32m     27\u001b[0m )\n",
      "\u001b[1;31mNameError\u001b[0m: name 'collection' is not defined"
     ]
    }
   ],
   "source": [
    "import csv\n",
    "\n",
    "# Function to iterate through the CSV file and write metadata and record for all authors to a single file\n",
    "def process_csv(input_csv, output_txt):\n",
    "    with open(input_csv, 'r', newline='', encoding='utf-8') as csv_file:\n",
    "        csv_reader = csv.reader(csv_file)\n",
    "        header = next(csv_reader)  # Read the header\n",
    "\n",
    "        with open(output_txt, 'w', encoding='utf-8') as output_file:\n",
    "            for author_index in range(3, len(header)):\n",
    "                author_name = header[author_index]\n",
    "\n",
    "                csv_file.seek(0)  # Reset file pointer to start\n",
    "                next(csv_reader)  # Skip header for subsequent reads\n",
    "\n",
    "                for row in csv_reader:\n",
    "                    surah_number, verse_number, *translations = row\n",
    "                    metadata = f\"Author: {author_name}, Surah: {surah_number}, Verse: {verse_number}\"\n",
    "                    document_id = f\"{author_name}_{surah_number}_{verse_number}\" \n",
    "                    translation = translations[author_index - 3] if translations else \"\"\n",
    "                    output_file.write(f\"{metadata}\\n{translation}\\n\\n\")\n",
    "                    # Add the document to the collection\n",
    "                    collection.add(\n",
    "                        documents=[translation],\n",
    "                        metadatas=[metadata],\n",
    "                        ids=[document_id]\n",
    "                    )\n",
    "\n",
    "# Example usage\n",
    "input_csv = 'quran.csv'\n",
    "output_txt = 'metadata_all_authors.txt'\n",
    "process_csv(input_csv, output_txt)\n"
   ]
  },
  {
   "cell_type": "code",
   "execution_count": null,
   "metadata": {},
   "outputs": [],
   "source": []
  }
 ],
 "metadata": {
  "kernelspec": {
   "display_name": "Python 3",
   "language": "python",
   "name": "python3"
  },
  "language_info": {
   "codemirror_mode": {
    "name": "ipython",
    "version": 3
   },
   "file_extension": ".py",
   "mimetype": "text/x-python",
   "name": "python",
   "nbconvert_exporter": "python",
   "pygments_lexer": "ipython3",
   "version": "3.10.0"
  }
 },
 "nbformat": 4,
 "nbformat_minor": 2
}
